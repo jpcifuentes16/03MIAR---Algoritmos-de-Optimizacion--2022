{
  "nbformat": 4,
  "nbformat_minor": 0,
  "metadata": {
    "colab": {
      "provenance": []
    },
    "kernelspec": {
      "name": "python3",
      "display_name": "Python 3"
    }
  },
  "cells": [
    {
      "cell_type": "markdown",
      "metadata": {
        "id": "hVbXYX-RfPWh"
      },
      "source": [
        "# Algoritmos de optimización - Seminario<br>\n",
        "Nombre y Apellidos: José Pablo Cifuentes Sánchez  <br>\n",
        "Github: https://github.com/jpcifuentes16/03MIAR---Algoritmos-de-Optimizacion--2022<br>\n",
        "Colab: https://colab.research.google.com/drive/1WI62OxuG2_f73If94GVrioktwph2r1SE?usp=sharing <br>\n",
        "Problema:\n",
        ">**3. Combinar cifras y operaciones**\n",
        "\n",
        "Descripción del problema:(copiar enunciado)\n",
        "\n",
        "El problema consiste en analizar el siguiente problema y diseñar un algoritmo que lo resuelva.\n",
        "* Disponemos de las 9 cifras del 1 al 9 (excluimos el cero) y de los 4 signos básicos de las operaciones fundamentales: suma(+), resta(-), multiplicación(*) y división(/)\n",
        "* Debemos combinarlos alternativamente sin repetir ninguno de ellos para obtener una cantidad\n",
        "dada. \n",
        "\n",
        "Un ejemplo sería para obtener el 4:\n",
        "\n",
        "4+2-6/3*1 = 4\n",
        "\n",
        "(*) La respuesta es obligatoria\n",
        "\n",
        "\n",
        "\n",
        "\n",
        "\n",
        "                                        "
      ]
    },
    {
      "cell_type": "markdown",
      "source": [
        "\n",
        "\n",
        "---\n"
      ],
      "metadata": {
        "id": "GO4kpp-nyViv"
      }
    },
    {
      "cell_type": "markdown",
      "metadata": {
        "id": "3_-exlrTgLd-"
      },
      "source": [
        "# (*)¿Cuantas posibilidades hay sin tener en cuenta las restricciones?\n",
        "\n",
        "\n"
      ]
    },
    {
      "cell_type": "markdown",
      "metadata": {
        "id": "WfCUqJyKhPcw"
      },
      "source": [
        "* Si calculamos las variaciones con repetición de los números obtenemos: **59,049**.\n",
        "Esto se obtiene al aplicar **n^k -> 9^5**. **9** dígitos disponibles de los que requerimos solo **5**.\n",
        "\n",
        "* Si calculamos las variaciones con repetición de los operandos obtenemos: **256**.\n",
        "Esto se obtiene al aplicar **n^k -> 4^4**. **5** operadores disponibles de los que requerimos los **4**.\n",
        "\n",
        "Al multiplicar estos dos valores obtenemos: **15,116,544**. Este sería las posibilidades finales.\n"
      ]
    },
    {
      "cell_type": "markdown",
      "source": [
        "# ¿Cuantas posibilidades hay teniendo en cuenta todas las restricciones?"
      ],
      "metadata": {
        "id": "XMLf1hTELJF4"
      }
    },
    {
      "cell_type": "markdown",
      "source": [
        "* Si calculamos las variaciones sin repetición de los números obtenemos: **15,120**.\n",
        "Esto se obtiene tras utilizar **n! / (n - k)! -> 9! / (9 - 5)!**. **9** posibles dígitos, de los cuales utilizamos únicamente **5**.\n",
        "* Si calculamos las permutaciones sin repetición de los operandos obtenemos: **24**. \n",
        "Esto se obtiene tras utilizar **n! -> 4!**. **4** posibles operadores\n",
        "\n",
        "Al multiplicar estos dos valores obtenemos: **362,880**. Este sería las posibilidades finales.\n"
      ],
      "metadata": {
        "id": "uEihro4_M8dP"
      }
    },
    {
      "cell_type": "markdown",
      "source": [
        "\n",
        "\n",
        "---\n",
        "\n"
      ],
      "metadata": {
        "id": "nKdjJUXAx0Mv"
      }
    },
    {
      "cell_type": "markdown",
      "metadata": {
        "id": "dzynfVJahHoY"
      },
      "source": [
        "# (*) ¿Cual es la estructura de datos que mejor se adapta al problema? Argumentalo.(Es posible que hayas elegido una al principio y veas la necesidad de cambiar, arguentalo) texto en negrita\n"
      ]
    },
    {
      "cell_type": "markdown",
      "metadata": {
        "id": "xFIJrOwKi2Ti"
      },
      "source": [
        "## Versión 1\n",
        "Considero que la mejor estructura de datos para este problema es una lista en donde cada posición corresponda a un dígito u operando. Siguiendo el ejemplo presentado anteriormente, la estructura de datos quedaría de la siguiente forma:\n",
        "\n",
        "\n",
        "```\n",
        "lista = ['4','+','2','-','6','/','3','*','1']\n",
        "```\n",
        "\n",
        "Esta estructura de datos nos facilita interactuar con los elementos, poder reordenarlos y es fácil obtener el valor de cada configuración como se muestra a continuación:\n",
        "\n",
        "\n",
        "```\n",
        "eval(\"\".join(lista))\n",
        "```\n",
        "\n",
        "## Versión 2\n",
        "La estructura final es un arreglo de objetos tipo **Solución**, cada objeto cuenta con los siguientes atributos:\n",
        "* **numeros**: Contiene los números de la posible solución.\n",
        "* **operadores**: Contiene los números de la posible solución.\n",
        "* **resultadoEsperado**: Contiene el valor esperado que queremos obtener con un conjunto de operadores y números de la solución.\n",
        "* **solución**: String en donde se unen los números y operadores de la solución.\n",
        "* **error**: La diferencia entre el resultado esperado y el resultado de la solución actual.\n",
        "\n",
        "Si nos damos cuenta, el cambio más significativo con la primera versión es que ahora vinculamos el error que representa qué tan buena es la solución con la información de la solución, en este caso la combinación de números y operadores. \n",
        "\n"
      ]
    },
    {
      "cell_type": "markdown",
      "source": [
        "\n",
        "\n",
        "---"
      ],
      "metadata": {
        "id": "ZxpiltcgyTDX"
      }
    },
    {
      "cell_type": "markdown",
      "metadata": {
        "id": "7Z9U2W7bi-XS"
      },
      "source": [
        "# (*)¿Cual es la función objetivo?"
      ]
    },
    {
      "cell_type": "markdown",
      "metadata": {
        "id": "hBalWLM7j1_d"
      },
      "source": [
        "La función objetivo de este problema es una resta de evaluar la solución a evaluar, con el valor esperado. Y lo que esperamos es que la función objetivo retorne un valor de 0, en pocas palabras, que al operar la solución de el valor esperado. "
      ]
    },
    {
      "cell_type": "markdown",
      "source": [
        "# (*)¿Es un problema de maximización o minimización?"
      ],
      "metadata": {
        "id": "NqCEvTb1XtLe"
      }
    },
    {
      "cell_type": "markdown",
      "source": [
        "En realidad, es un **problema de búsqueda**. Pero lo podríamos plantear como un problema de minimización en donde el objetivo sea obtener una diferencia de 0 al evaluar nuestra solución con el valor esperado."
      ],
      "metadata": {
        "id": "WGaxOGWKc5E2"
      }
    },
    {
      "cell_type": "markdown",
      "source": [
        "\n",
        "\n",
        "---\n"
      ],
      "metadata": {
        "id": "-l0KkvzMyfsH"
      }
    },
    {
      "cell_type": "markdown",
      "metadata": {
        "id": "rlnTYgY1j6I2"
      },
      "source": [
        "## Diseña un algoritmo para resolver el problema por fuerza bruta"
      ]
    },
    {
      "cell_type": "code",
      "source": [
        "from itertools import permutations, combinations\n",
        "\n",
        "def FuerzaBruta(numeros, operadores, resultadoEsperado):\n",
        "\n",
        "    iteraciones = 0\n",
        "    for comb in combinations(numeros, 5):\n",
        "        for perm in permutations(comb):\n",
        "            for opPerm in permutations(operadores, 5 - 1):\n",
        "                expression = [str(perm[0])]\n",
        "                for j in range(1, 5):\n",
        "                    expression.append(opPerm[j - 1])\n",
        "                    expression.append(str(perm[j]))\n",
        "                solucion = ''.join(expression)\n",
        "                iteraciones += 1\n",
        "                if (eval(solucion) == resultadoEsperado):\n",
        "                    print(f\"Se econtró en la iteración: {iteraciones}\")\n",
        "                    print(f\"Solución: {solucion}\")\n",
        "                    return solucion\n",
        "    print('No se encontró')\n",
        "\n",
        "\n",
        "\n",
        "\n",
        "digitos = ['1','2','3','4','5','6','7','8','9']\n",
        "operadores = ['+','-','*','/']\n",
        "\n",
        "\n",
        "resultadoEsperado = 4\n",
        "FuerzaBruta(digitos, operadores, resultadoEsperado)"
      ],
      "metadata": {
        "colab": {
          "base_uri": "https://localhost:8080/",
          "height": 71
        },
        "id": "907qx5Ou3F8X",
        "outputId": "d3470871-73f5-426b-95fd-17d9ae8681c3"
      },
      "execution_count": 1,
      "outputs": [
        {
          "output_type": "stream",
          "name": "stdout",
          "text": [
            "Se econtró en la iteración: 72\n",
            "Solución: 1/2*4-3+5\n"
          ]
        },
        {
          "output_type": "execute_result",
          "data": {
            "text/plain": [
              "'1/2*4-3+5'"
            ],
            "application/vnd.google.colaboratory.intrinsic+json": {
              "type": "string"
            }
          },
          "metadata": {},
          "execution_count": 1
        }
      ]
    },
    {
      "cell_type": "markdown",
      "source": [
        "\n",
        "\n",
        "---\n",
        "\n",
        "\n",
        "\n",
        "---\n",
        "\n"
      ],
      "metadata": {
        "id": "A8OCiE2CzW3y"
      }
    },
    {
      "cell_type": "code",
      "source": [
        "from itertools import permutations, combinations\n",
        "\n",
        "def EncontrarTodosLosValores(numeros, operadores):\n",
        "    resultados = []\n",
        "    for comb in combinations(numeros, 5):\n",
        "        for perm in permutations(comb):\n",
        "            for opPerm in permutations(operadores, 5 - 1):\n",
        "                expression = [str(perm[0])]\n",
        "                for j in range(1, 5):\n",
        "                    expression.append(opPerm[j - 1])\n",
        "                    expression.append(str(perm[j]))\n",
        "                solucion = ''.join(expression)\n",
        "                resultados.append(int(eval(solucion)))\n",
        "    return resultados\n",
        "\n",
        "\n",
        "\n",
        "\n",
        "\n",
        "digitos = ['1','2','3','4','5','6','7','8','9']\n",
        "operadores = ['+','-','*','/']\n",
        "\n",
        "\n",
        "resultadoEsperado = 4\n",
        "resultados = EncontrarTodosLosValores(digitos, operadores)"
      ],
      "metadata": {
        "id": "3NWTvX2qzbPn"
      },
      "execution_count": 2,
      "outputs": []
    },
    {
      "cell_type": "markdown",
      "source": [
        "# ¿Qué valor máximo y mínimo se pueden obtener según las condiciones del problema?"
      ],
      "metadata": {
        "id": "ydMwEmkozPUD"
      }
    },
    {
      "cell_type": "code",
      "source": [
        "maximo = max(resultados)\n",
        "minimo = min(resultados)\n",
        "print(f\"Valor máximo {maximo}\")\n",
        "print(f\"Valor mínimo {minimo}\")"
      ],
      "metadata": {
        "colab": {
          "base_uri": "https://localhost:8080/",
          "height": 0
        },
        "id": "1qXW4WKx31WB",
        "outputId": "18017e06-8515-4756-edce-22d6cd1c5850"
      },
      "execution_count": 3,
      "outputs": [
        {
          "output_type": "stream",
          "name": "stdout",
          "text": [
            "Valor máximo 78\n",
            "Valor mínimo -70\n"
          ]
        }
      ]
    },
    {
      "cell_type": "markdown",
      "source": [
        "# ¿Es posible encontrar todos los valores enteros posibles entre dicho mínimo y máximo ?"
      ],
      "metadata": {
        "id": "Kr57utSD4Ynh"
      }
    },
    {
      "cell_type": "code",
      "source": [
        "resultados.sort()\n",
        "set(resultados) - set(range(minimo,maximo + 1))"
      ],
      "metadata": {
        "colab": {
          "base_uri": "https://localhost:8080/",
          "height": 0
        },
        "id": "FqUl08aS4aOB",
        "outputId": "34a742c5-1679-4e6b-9a90-1c635bf279a6"
      },
      "execution_count": 4,
      "outputs": [
        {
          "output_type": "execute_result",
          "data": {
            "text/plain": [
              "set()"
            ]
          },
          "metadata": {},
          "execution_count": 4
        }
      ]
    },
    {
      "cell_type": "markdown",
      "source": [
        "Podemos notar que si se generan todos los valores enteros posibles entre dicho mínimo y máximo."
      ],
      "metadata": {
        "id": "TXqApZtRJu_b"
      }
    },
    {
      "cell_type": "markdown",
      "source": [
        "\n",
        "\n",
        "---\n"
      ],
      "metadata": {
        "id": "2-4xmTqBziS_"
      }
    },
    {
      "cell_type": "markdown",
      "metadata": {
        "id": "tgrnsC2nkFa8"
      },
      "source": [
        "# Calcula la complejidad del algoritmo por fuerza bruta"
      ]
    },
    {
      "cell_type": "markdown",
      "metadata": {
        "id": "9eUd3xwckP68"
      },
      "source": [
        "La complejidad de este algoritmos sería O(n^5) debido a que el algoritmo explícitamente tiene 4 bucles que dependen de n principalmente, siendo n la lista de números y finalmente un bucle de la función que se utiliza para evaluar la expresión “eval()”."
      ]
    },
    {
      "cell_type": "markdown",
      "source": [
        "\n",
        "\n",
        "---\n",
        "\n"
      ],
      "metadata": {
        "id": "RePFPgOpzqCe"
      }
    },
    {
      "cell_type": "markdown",
      "metadata": {
        "id": "txbrmLmskReM"
      },
      "source": [
        "# (*)Diseña un algoritmo que mejore la complejidad del algortimo por fuerza bruta. Argumenta porque crees que mejora el algoritmo por fuerza bruta"
      ]
    },
    {
      "cell_type": "code",
      "source": [
        "from itertools import permutations\n",
        "\n",
        "\n",
        "class Solucion:\n",
        "    '''\n",
        "        Clase Solucion\n",
        "        Contiene información de cada posible solución del problema\n",
        "    '''\n",
        "    def __init__(self, numeros=None, operadores=None, resultadoEsperado=None, solucion=None):\n",
        "        # Contiene los números de la posible solución\n",
        "        self.numeros = numeros\n",
        "        \n",
        "        # Contiene los operadores de la posible solución\n",
        "        self.operadores = operadores\n",
        "        \n",
        "        # Contiene el valor esperado que queremos obtener con un conjunto de operadores y números de la solución\n",
        "        self.resultadoEsperado = resultadoEsperado\n",
        "\n",
        "        # Si no se envía solución se genera\n",
        "        if(numeros != None):\n",
        "            self.solucion = self.GenerarSolucion()\n",
        "        else:\n",
        "            self.solucion = solucion\n",
        "        \n",
        "        # Se calcula el error de la solución\n",
        "        self.error = self.Evaluar()\n",
        "    \n",
        "    \n",
        "    def GenerarSolucion(self):\n",
        "        '''\n",
        "            A partir de una serie de números y operadores, se genera una ecuación\n",
        "            Ej:\n",
        "            numeros = [1,2,3]\n",
        "            operadores = [+, *]\n",
        "            solucion = '1+2*3'\n",
        "        '''\n",
        "        expression = [str(self.numeros[0])]\n",
        "        for j in range(1, 5):\n",
        "            expression.append(self.operadores[j - 1])\n",
        "            expression.append(str(self.numeros[j]))\n",
        "        solucion = ''.join(expression)\n",
        "        return solucion\n",
        "    \n",
        "    def Evaluar(self):\n",
        "        return abs(self.resultadoEsperado - eval(self.solucion))\n",
        "    \n",
        "    def __repr__(self):\n",
        "        return f\"{self.solucion}\"\n",
        "        return f\"{self.error}\"\n",
        "\n",
        "def ArreglarSolucion(numeros, operadores, solucion):\n",
        "    '''\n",
        "        Esta función si en una solución existe más de una vez un dígito\n",
        "        u operador, soluciona este problema\n",
        "\n",
        "        Ej:\n",
        "        solucionMala = '4*3/2-9/3'\n",
        "        solucionBuena = '4*3/2-9+7'\n",
        "    '''\n",
        "    solucion = list(solucion)\n",
        "    for i in range(len(solucion)):\n",
        "        if(solucion.count(solucion[i]) > 1):\n",
        "            if (solucion[i] in numeros):\n",
        "                # Es numero\n",
        "                solucion[i] = list(set(numeros) - set(solucion))[0]\n",
        "            else:\n",
        "                # Es operador\n",
        "                solucion[i] = list(set(operadores) - set(solucion))[0]\n",
        "    return ''.join(solucion)\n",
        "\n",
        "\n",
        "def PointCrossOver(padre, madre,resultadoEsperado, numeros, operadores):\n",
        "    '''\n",
        "        Función que calcula un punto aleatorio para realizar el Corss Over\n",
        "    '''\n",
        "    num = random.randint(0, len(padre.solucion))\n",
        "    hijo = padre.solucion[:num] + madre.solucion[num:]\n",
        "    hijo = ArreglarSolucion(numeros, operadores, hijo)\n",
        "    return Solucion(resultadoEsperado=resultadoEsperado, solucion=hijo)\n",
        "\n",
        "def UniformCrossOver(padre, madre,resultadoEsperado, numeros, operadores):\n",
        "    '''\n",
        "        Función en donde por cada posición tiene una probabilidad de 50% de heredar\n",
        "        del padre y 50% de la madre\n",
        "    '''\n",
        "    hijo = \"\"\n",
        "    for i in range(len(padre.solucion)):\n",
        "        if random.randint(0, 1) == 1:\n",
        "            hijo += padre.solucion[i]\n",
        "        else:\n",
        "            hijo += madre.solucion[i]\n",
        "    hijo = ArreglarSolucion(numeros, operadores, hijo)\n",
        "    return Solucion(resultadoEsperado=resultadoEsperado, solucion=hijo)\n",
        "\n",
        "\n",
        "import random\n",
        "\n",
        "def AlgoritmoGenetico(numeros, operadores, resultadoEsperado):\n",
        "    generaciones = 0\n",
        "    permutacionesNumeros = list(permutations(numeros,5))\n",
        "    random.shuffle(permutacionesNumeros)\n",
        "    permutacionesOperadores = list(permutations(operadores))\n",
        "    random.shuffle(permutacionesOperadores)\n",
        "    poblacion = []\n",
        "\n",
        "    # 1. Generar n permutaciones (población inicial)\n",
        "    for _ in range(20):\n",
        "        poblacion.append(Solucion(permutacionesNumeros.pop(),random.choice(permutacionesOperadores),resultadoEsperado))\n",
        "    \n",
        "    while len(permutacionesNumeros) > 0 and len(permutacionesOperadores) > 0:\n",
        "        generaciones += 1\n",
        "        # 2. Evaluar poblacion (Se evalúa al crear cada solución)\n",
        "        # 3. Ordenar de menor a mayor\n",
        "        poblacion.sort(key=lambda x: x.error, reverse=False)\n",
        "\n",
        "        # 3.1. Si el error de la mejor solución es 0: FIN\n",
        "        if (poblacion[0].error == 0):\n",
        "            print(f'Se encontró en la generación: {generaciones}')\n",
        "            print(f'Solución: {poblacion[0].solucion}')\n",
        "            return\n",
        "\n",
        "        # 4 Seleccionar las mejores n soluciones\n",
        "        poblacion = poblacion[:10]\n",
        "\n",
        "        # 5. Recombinar\n",
        "        for i in range(0, len(poblacion)-1,2):\n",
        "            padre = poblacion[i]\n",
        "            madre = poblacion[i+1]\n",
        "            if random.randint(0, 1) == 1:\n",
        "                poblacion.append(PointCrossOver(padre, madre, resultadoEsperado, numeros, operadores))\n",
        "            else:\n",
        "                poblacion.append(UniformCrossOver(padre, madre, resultadoEsperado, numeros, operadores))\n",
        "        \n",
        "        # 6. Mutar (con una probabilidad de 80% se generan nuevas soluciones)\n",
        "        if random.randint(0, 100) < 80:\n",
        "            poblacion.append(Solucion(permutacionesNumeros.pop(),random.choice(permutacionesOperadores),resultadoEsperado))\n",
        "\n",
        "        # 7. Ir a 2\n",
        "    print('No se encontró')\n",
        "\n",
        "\n",
        "\n",
        "\n",
        "\n",
        "digitos = ['1','2','3','4','5','6','7','8','9']\n",
        "operadores = ['+','-','*','/']\n",
        "\n",
        "resultadoEsperado = 4\n",
        "AlgoritmoGenetico(digitos, operadores, resultadoEsperado)"
      ],
      "metadata": {
        "id": "E966N55D2dU3",
        "colab": {
          "base_uri": "https://localhost:8080/",
          "height": 0
        },
        "outputId": "8c8462d0-45fe-4547-edc1-74d34d56745b"
      },
      "execution_count": 5,
      "outputs": [
        {
          "output_type": "stream",
          "name": "stdout",
          "text": [
            "Se encontró en la generación: 29\n",
            "Solución: 9-4*2/1+3\n"
          ]
        }
      ]
    },
    {
      "cell_type": "markdown",
      "source": [
        "# Argumenta porque crees que mejora el algoritmo por fuerza bruta:"
      ],
      "metadata": {
        "id": "KazPNVUDtxS3"
      }
    },
    {
      "cell_type": "markdown",
      "source": [
        "Si analizamos a grandes rasgos el código anterior, podemos notar que se utilizan varios ciclos **for**, en donde no dependen de los datos de entrada, siempre son números fijos, por ejemplo **range(1,5)** o **range(20)**. Por otro lado, tenemos un ciclo **while** que se repite **g** veces, donde **g** es la cantidad de generaciones. Finalmente en el paso 3 del algoritmo genético, se ordena la población, en donde este paso tiene una complejidad de **O(n log n)**. En donde **n** es el tamaño de la población, siendo en promedio de **20**. Si nos damos cuenta la complejidad es mucho menor que a la solución por fuerza bruta **O(n^5)**.\n",
        "\n",
        "Si se ejecuta el algoritmo varias veces, se podrá notar que la generación en donde es capaz de encontrar la solución correcta cambia. La mayoría de las veces es una generación temprana, siendo el caso incluso la generación 1. Sin embargo, esta generación puede ser alta llegando a sobrepasar la generación 200. Esto depende mucho de la aleatoriedad de la población inicial y de los cruces.\n",
        "\n"
      ],
      "metadata": {
        "id": "2UaqlKWBU_AI"
      }
    },
    {
      "cell_type": "markdown",
      "source": [
        "\n",
        "\n",
        "---\n",
        "\n"
      ],
      "metadata": {
        "id": "S7-k7OApzt-H"
      }
    },
    {
      "cell_type": "markdown",
      "metadata": {
        "id": "eGDB4K6uk1iN"
      },
      "source": [
        "# (*)Calcula la complejidad del algoritmo "
      ]
    },
    {
      "cell_type": "markdown",
      "source": [
        "O(n log n)"
      ],
      "metadata": {
        "id": "N2FHNAckVDzA"
      }
    },
    {
      "cell_type": "markdown",
      "source": [
        "\n",
        "\n",
        "---\n"
      ],
      "metadata": {
        "id": "plMoi3H8zxb-"
      }
    },
    {
      "cell_type": "markdown",
      "metadata": {
        "id": "zy5ZROmjlGo1"
      },
      "source": [
        "# Aplica el algoritmo al juego de datos generado"
      ]
    },
    {
      "cell_type": "code",
      "source": [
        "resultadoEsperado = random.randint(-70, 78)\n",
        "print(f'Número aleatorio generado: {resultadoEsperado}')\n",
        "AlgoritmoGenetico(digitos, operadores, resultadoEsperado)"
      ],
      "metadata": {
        "colab": {
          "base_uri": "https://localhost:8080/",
          "height": 0
        },
        "id": "cd50DTfLEGkH",
        "outputId": "781cb844-b5ca-41a7-eb1a-7d6281e1ed28"
      },
      "execution_count": 7,
      "outputs": [
        {
          "output_type": "stream",
          "name": "stdout",
          "text": [
            "Número aleatorio generado: 17\n",
            "Se encontró en la generación: 195\n",
            "Solución: 3/1*5+9-7\n"
          ]
        }
      ]
    },
    {
      "cell_type": "markdown",
      "metadata": {
        "id": "_Cmj-PVylMsa"
      },
      "source": [
        "En la celda anterior se genera un número esperado de forma aleatoria y se manda como dato de entrada al algoritmo desarrollado anteriormente. "
      ]
    },
    {
      "cell_type": "markdown",
      "source": [
        "\n",
        "\n",
        "---\n",
        "\n"
      ],
      "metadata": {
        "id": "W9cRDKR1z5bw"
      }
    },
    {
      "cell_type": "markdown",
      "metadata": {
        "id": "kAkDPUyRtYyH"
      },
      "source": [
        "# Describe brevemente las lineas de como crees que es posible avanzar en el estudio del problema. Ten en cuenta incluso posibles variaciones del problema y/o variaciones al alza del tamaño"
      ]
    },
    {
      "cell_type": "markdown",
      "metadata": {
        "id": "IE0uZmo-tZu-"
      },
      "source": [
        "Algunas variaciones del problema podrían ser las siguientes:\n",
        "1.\tQuitar la restricción de repetición de números y operadores\n",
        "2.\tUtilizar más números, no solo del 1 al 9\n",
        "\n",
        "Líneas de cómo poder avanzar en la resolución del problema:\n",
        "1.\tExplorar e identificar mejores formas de recombinar y mutar las soluciones en el algoritmo genético. \n",
        "2.\tExplorar otro tipo de algoritmos para resolver este tipo de problemas, específicamente algoritmos de búsqueda.\n",
        "\n"
      ]
    }
  ]
}